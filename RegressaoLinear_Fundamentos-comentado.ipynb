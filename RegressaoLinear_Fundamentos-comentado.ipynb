{
  "nbformat": 4,
  "nbformat_minor": 0,
  "metadata": {
    "colab": {
      "name": "RegressaoLinear-Fundamentos",
      "provenance": [],
      "include_colab_link": true
    },
    "kernelspec": {
      "name": "python3",
      "display_name": "Python 3"
    },
    "language_info": {
      "name": "python"
    }
  },
  "cells": [
    {
      "cell_type": "markdown",
      "metadata": {
        "id": "view-in-github",
        "colab_type": "text"
      },
      "source": [
        "<a href=\"https://colab.research.google.com/github/Jovania/CursoDS_ProfDanilo/blob/master/RegressaoLinear_Fundamentos-comentado.ipynb\" target=\"_parent\"><img src=\"https://colab.research.google.com/assets/colab-badge.svg\" alt=\"Open In Colab\"/></a>"
      ]
    },
    {
      "cell_type": "code",
      "execution_count": null,
      "metadata": {
        "id": "xmQgSZZkRN7q"
      },
      "outputs": [],
      "source": [
        "import numpy as np\n",
        "import pandas as pd\n",
        "import matplotlib.pyplot as plt\n",
        "from google.colab import data_table\n",
        "from vega_datasets import data\n",
        "\n",
        "data_table.enable_dataframe_formatter()"
      ]
    },
    {
      "cell_type": "code",
      "source": [
        "dados = pd.read_csv('rl2.csv', delimiter=';')\n",
        "dados.head(10)\n"
      ],
      "metadata": {
        "colab": {
          "base_uri": "https://localhost:8080/",
          "height": 304
        },
        "id": "K1zREleGRdwU",
        "outputId": "0e6f682c-ffd3-4634-d370-718856dfec65"
      },
      "execution_count": null,
      "outputs": [
        {
          "output_type": "execute_result",
          "data": {
            "application/vnd.google.colaboratory.module+javascript": "\n      import \"https://ssl.gstatic.com/colaboratory/data_table/a6224c040fa35dcf/data_table.js\";\n\n      window.createDataTable({\n        data: [[{\n            'v': 0,\n            'f': \"0\",\n        },\n{\n            'v': 0.0,\n            'f': \"0.0\",\n        },\n{\n            'v': -11.656136637634356,\n            'f': \"-11.656136637634356\",\n        }],\n [{\n            'v': 1,\n            'f': \"1\",\n        },\n{\n            'v': 0.101010101010101,\n            'f': \"0.101010101010101\",\n        },\n{\n            'v': -8.074455541409693,\n            'f': \"-8.074455541409693\",\n        }],\n [{\n            'v': 2,\n            'f': \"2\",\n        },\n{\n            'v': 0.202020202020202,\n            'f': \"0.202020202020202\",\n        },\n{\n            'v': -16.588246394446738,\n            'f': \"-16.588246394446738\",\n        }],\n [{\n            'v': 3,\n            'f': \"3\",\n        },\n{\n            'v': 0.30303030303030304,\n            'f': \"0.30303030303030304\",\n        },\n{\n            'v': -4.275013434587614,\n            'f': \"-4.275013434587614\",\n        }],\n [{\n            'v': 4,\n            'f': \"4\",\n        },\n{\n            'v': 0.404040404040404,\n            'f': \"0.404040404040404\",\n        },\n{\n            'v': -8.71427509618449,\n            'f': \"-8.71427509618449\",\n        }],\n [{\n            'v': 5,\n            'f': \"5\",\n        },\n{\n            'v': 0.5050505050505051,\n            'f': \"0.5050505050505051\",\n        },\n{\n            'v': -7.279264116834314,\n            'f': \"-7.279264116834314\",\n        }],\n [{\n            'v': 6,\n            'f': \"6\",\n        },\n{\n            'v': 0.6060606060606061,\n            'f': \"0.6060606060606061\",\n        },\n{\n            'v': -3.4277602245389867,\n            'f': \"-3.4277602245389867\",\n        }],\n [{\n            'v': 7,\n            'f': \"7\",\n        },\n{\n            'v': 0.7070707070707071,\n            'f': \"0.7070707070707071\",\n        },\n{\n            'v': -11.301642667052635,\n            'f': \"-11.301642667052635\",\n        }],\n [{\n            'v': 8,\n            'f': \"8\",\n        },\n{\n            'v': 0.8080808080808081,\n            'f': \"0.8080808080808081\",\n        },\n{\n            'v': -7.954798103352016,\n            'f': \"-7.954798103352016\",\n        }],\n [{\n            'v': 9,\n            'f': \"9\",\n        },\n{\n            'v': 0.9090909090909092,\n            'f': \"0.9090909090909092\",\n        },\n{\n            'v': -12.616200802874234,\n            'f': \"-12.616200802874234\",\n        }]],\n        columns: [[\"number\", \"index\"], [\"number\", \"X\"], [\"number\", \"Y\"]],\n        columnOptions: [{\"width\": \"1px\", \"className\": \"index_column\"}],\n        rowsPerPage: 25,\n        helpUrl: \"https://colab.research.google.com/notebooks/data_table.ipynb\",\n        suppressOutputScrolling: true,\n        minimumWidth: undefined,\n      });\n    ",
            "text/html": [
              "\n",
              "  <div id=\"df-bc8a8d06-0b99-4a8b-b80f-e9c95c9b5da6\">\n",
              "    <div class=\"colab-df-container\">\n",
              "      <div>\n",
              "<style scoped>\n",
              "    .dataframe tbody tr th:only-of-type {\n",
              "        vertical-align: middle;\n",
              "    }\n",
              "\n",
              "    .dataframe tbody tr th {\n",
              "        vertical-align: top;\n",
              "    }\n",
              "\n",
              "    .dataframe thead th {\n",
              "        text-align: right;\n",
              "    }\n",
              "</style>\n",
              "<table border=\"1\" class=\"dataframe\">\n",
              "  <thead>\n",
              "    <tr style=\"text-align: right;\">\n",
              "      <th></th>\n",
              "      <th>X</th>\n",
              "      <th>Y</th>\n",
              "    </tr>\n",
              "  </thead>\n",
              "  <tbody>\n",
              "    <tr>\n",
              "      <th>0</th>\n",
              "      <td>0.000000</td>\n",
              "      <td>-11.656137</td>\n",
              "    </tr>\n",
              "    <tr>\n",
              "      <th>1</th>\n",
              "      <td>0.101010</td>\n",
              "      <td>-8.074456</td>\n",
              "    </tr>\n",
              "    <tr>\n",
              "      <th>2</th>\n",
              "      <td>0.202020</td>\n",
              "      <td>-16.588246</td>\n",
              "    </tr>\n",
              "    <tr>\n",
              "      <th>3</th>\n",
              "      <td>0.303030</td>\n",
              "      <td>-4.275013</td>\n",
              "    </tr>\n",
              "    <tr>\n",
              "      <th>4</th>\n",
              "      <td>0.404040</td>\n",
              "      <td>-8.714275</td>\n",
              "    </tr>\n",
              "    <tr>\n",
              "      <th>5</th>\n",
              "      <td>0.505051</td>\n",
              "      <td>-7.279264</td>\n",
              "    </tr>\n",
              "    <tr>\n",
              "      <th>6</th>\n",
              "      <td>0.606061</td>\n",
              "      <td>-3.427760</td>\n",
              "    </tr>\n",
              "    <tr>\n",
              "      <th>7</th>\n",
              "      <td>0.707071</td>\n",
              "      <td>-11.301643</td>\n",
              "    </tr>\n",
              "    <tr>\n",
              "      <th>8</th>\n",
              "      <td>0.808081</td>\n",
              "      <td>-7.954798</td>\n",
              "    </tr>\n",
              "    <tr>\n",
              "      <th>9</th>\n",
              "      <td>0.909091</td>\n",
              "      <td>-12.616201</td>\n",
              "    </tr>\n",
              "  </tbody>\n",
              "</table>\n",
              "</div>\n",
              "      <button class=\"colab-df-convert\" onclick=\"convertToInteractive('df-bc8a8d06-0b99-4a8b-b80f-e9c95c9b5da6')\"\n",
              "              title=\"Convert this dataframe to an interactive table.\"\n",
              "              style=\"display:none;\">\n",
              "        \n",
              "  <svg xmlns=\"http://www.w3.org/2000/svg\" height=\"24px\"viewBox=\"0 0 24 24\"\n",
              "       width=\"24px\">\n",
              "    <path d=\"M0 0h24v24H0V0z\" fill=\"none\"/>\n",
              "    <path d=\"M18.56 5.44l.94 2.06.94-2.06 2.06-.94-2.06-.94-.94-2.06-.94 2.06-2.06.94zm-11 1L8.5 8.5l.94-2.06 2.06-.94-2.06-.94L8.5 2.5l-.94 2.06-2.06.94zm10 10l.94 2.06.94-2.06 2.06-.94-2.06-.94-.94-2.06-.94 2.06-2.06.94z\"/><path d=\"M17.41 7.96l-1.37-1.37c-.4-.4-.92-.59-1.43-.59-.52 0-1.04.2-1.43.59L10.3 9.45l-7.72 7.72c-.78.78-.78 2.05 0 2.83L4 21.41c.39.39.9.59 1.41.59.51 0 1.02-.2 1.41-.59l7.78-7.78 2.81-2.81c.8-.78.8-2.07 0-2.86zM5.41 20L4 18.59l7.72-7.72 1.47 1.35L5.41 20z\"/>\n",
              "  </svg>\n",
              "      </button>\n",
              "      \n",
              "  <style>\n",
              "    .colab-df-container {\n",
              "      display:flex;\n",
              "      flex-wrap:wrap;\n",
              "      gap: 12px;\n",
              "    }\n",
              "\n",
              "    .colab-df-convert {\n",
              "      background-color: #E8F0FE;\n",
              "      border: none;\n",
              "      border-radius: 50%;\n",
              "      cursor: pointer;\n",
              "      display: none;\n",
              "      fill: #1967D2;\n",
              "      height: 32px;\n",
              "      padding: 0 0 0 0;\n",
              "      width: 32px;\n",
              "    }\n",
              "\n",
              "    .colab-df-convert:hover {\n",
              "      background-color: #E2EBFA;\n",
              "      box-shadow: 0px 1px 2px rgba(60, 64, 67, 0.3), 0px 1px 3px 1px rgba(60, 64, 67, 0.15);\n",
              "      fill: #174EA6;\n",
              "    }\n",
              "\n",
              "    [theme=dark] .colab-df-convert {\n",
              "      background-color: #3B4455;\n",
              "      fill: #D2E3FC;\n",
              "    }\n",
              "\n",
              "    [theme=dark] .colab-df-convert:hover {\n",
              "      background-color: #434B5C;\n",
              "      box-shadow: 0px 1px 3px 1px rgba(0, 0, 0, 0.15);\n",
              "      filter: drop-shadow(0px 1px 2px rgba(0, 0, 0, 0.3));\n",
              "      fill: #FFFFFF;\n",
              "    }\n",
              "  </style>\n",
              "\n",
              "      <script>\n",
              "        const buttonEl =\n",
              "          document.querySelector('#df-bc8a8d06-0b99-4a8b-b80f-e9c95c9b5da6 button.colab-df-convert');\n",
              "        buttonEl.style.display =\n",
              "          google.colab.kernel.accessAllowed ? 'block' : 'none';\n",
              "\n",
              "        async function convertToInteractive(key) {\n",
              "          const element = document.querySelector('#df-bc8a8d06-0b99-4a8b-b80f-e9c95c9b5da6');\n",
              "          const dataTable =\n",
              "            await google.colab.kernel.invokeFunction('convertToInteractive',\n",
              "                                                     [key], {});\n",
              "          if (!dataTable) return;\n",
              "\n",
              "          const docLinkHtml = 'Like what you see? Visit the ' +\n",
              "            '<a target=\"_blank\" href=https://colab.research.google.com/notebooks/data_table.ipynb>data table notebook</a>'\n",
              "            + ' to learn more about interactive tables.';\n",
              "          element.innerHTML = '';\n",
              "          dataTable['output_type'] = 'display_data';\n",
              "          await google.colab.output.renderOutput(dataTable, element);\n",
              "          const docLink = document.createElement('div');\n",
              "          docLink.innerHTML = docLinkHtml;\n",
              "          element.appendChild(docLink);\n",
              "        }\n",
              "      </script>\n",
              "    </div>\n",
              "  </div>\n",
              "  "
            ],
            "text/plain": [
              "          X          Y\n",
              "0  0.000000 -11.656137\n",
              "1  0.101010  -8.074456\n",
              "2  0.202020 -16.588246\n",
              "3  0.303030  -4.275013\n",
              "4  0.404040  -8.714275\n",
              "5  0.505051  -7.279264\n",
              "6  0.606061  -3.427760\n",
              "7  0.707071 -11.301643\n",
              "8  0.808081  -7.954798\n",
              "9  0.909091 -12.616201"
            ]
          },
          "metadata": {},
          "execution_count": 45
        }
      ]
    },
    {
      "cell_type": "code",
      "source": [
        "X = dados['X'].values # X = lista dos elementos do dataframe da coluna x\n",
        "Y = dados['Y'].values # Y = lista dos elementos do dataframe da coluna y\n",
        "\n"
      ],
      "metadata": {
        "id": "x-XpoeYhSgtU"
      },
      "execution_count": null,
      "outputs": []
    },
    {
      "cell_type": "code",
      "source": [
        "plt.scatter(X,Y,label='Y(X)');\n",
        "plt.xlabel('X');\n",
        "plt.ylabel('Y');\n",
        "plt.legend();"
      ],
      "metadata": {
        "colab": {
          "base_uri": "https://localhost:8080/",
          "height": 279
        },
        "id": "SjAZg1LfSiOK",
        "outputId": "5e90e459-e009-47ca-ec7f-65b2847803d4"
      },
      "execution_count": null,
      "outputs": [
        {
          "output_type": "display_data",
          "data": {
            "image/png": "[encoded data removed]",
            "text/plain": [
              "<Figure size 432x288 with 1 Axes>"
            ]
          },
          "metadata": {
            "needs_background": "light"
          }
        }
      ]
    },
    {
      "cell_type": "markdown",
      "source": [
        "# A fórmula abaixo apresenta:\n",
        "x = elementos da coluna X <p>\n",
        "y = elementos da coluna Y <p>\n",
        "x_traço = média dos elementos de X  <p>\n",
        "y_traço = média dos elementos de Y  <p>\n",
        "m = Coeficiente angular <p>\n",
        "c = Coeficiente linear\n",
        "\n"
      ],
      "metadata": {
        "id": "QPKlFM81gtG2"
      }
    },
    {
      "cell_type": "markdown",
      "source": [
        "![regressaolinear.png](data:image/png;base64,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)"
      ],
      "metadata": {
        "id": "olaK4z5UYz-1"
      }
    },
    {
      "cell_type": "code",
      "source": [
        "media_X = np.mean(X)\n",
        "print(f\" Media X = {media_X}\")\n",
        "media_Y = np.mean(Y)\n",
        "print(f\" Media Y = {media_Y}\")\n",
        "erro_X = X - media_X\n",
        "erro_Y = Y - media_Y\n",
        "print(f\"Erro X = {erro_X}\")\n",
        "print(f\"Erro Y = {erro_Y}\")"
      ],
      "metadata": {
        "colab": {
          "base_uri": "https://localhost:8080/"
        },
        "id": "8IbJe9MQY1_P",
        "outputId": "a270a763-4220-4b23-83b2-8fb6ff0a9769"
      },
      "execution_count": null,
      "outputs": [
        {
          "output_type": "stream",
          "name": "stdout",
          "text": [
            " Media X = 5.0\n",
            " Media Y = 6.46237497152127\n",
            "Erro X = [-5.         -4.8989899  -4.7979798  -4.6969697  -4.5959596  -4.49494949\n",
            " -4.39393939 -4.29292929 -4.19191919 -4.09090909 -3.98989899 -3.88888889\n",
            " -3.78787879 -3.68686869 -3.58585859 -3.48484848 -3.38383838 -3.28282828\n",
            " -3.18181818 -3.08080808 -2.97979798 -2.87878788 -2.77777778 -2.67676768\n",
            " -2.57575758 -2.47474747 -2.37373737 -2.27272727 -2.17171717 -2.07070707\n",
            " -1.96969697 -1.86868687 -1.76767677 -1.66666667 -1.56565657 -1.46464646\n",
            " -1.36363636 -1.26262626 -1.16161616 -1.06060606 -0.95959596 -0.85858586\n",
            " -0.75757576 -0.65656566 -0.55555556 -0.45454545 -0.35353535 -0.25252525\n",
            " -0.15151515 -0.05050505  0.05050505  0.15151515  0.25252525  0.35353535\n",
            "  0.45454545  0.55555556  0.65656566  0.75757576  0.85858586  0.95959596\n",
            "  1.06060606  1.16161616  1.26262626  1.36363636  1.46464646  1.56565657\n",
            "  1.66666667  1.76767677  1.86868687  1.96969697  2.07070707  2.17171717\n",
            "  2.27272727  2.37373737  2.47474747  2.57575758  2.67676768  2.77777778\n",
            "  2.87878788  2.97979798  3.08080808  3.18181818  3.28282828  3.38383838\n",
            "  3.48484848  3.58585859  3.68686869  3.78787879  3.88888889  3.98989899\n",
            "  4.09090909  4.19191919  4.29292929  4.39393939  4.49494949  4.5959596\n",
            "  4.6969697   4.7979798   4.8989899   5.        ]\n",
            "Erro Y = [-18.11851161 -14.53683051 -23.05062137 -10.73738841 -15.17665007\n",
            " -13.74163909  -9.8901352  -17.76401764 -14.41717307 -19.07857577\n",
            " -15.44010723 -13.72100952 -13.39876094 -12.82412439 -14.24319491\n",
            "  -9.62333049 -12.00684193  -9.11840819 -14.26060948  -8.43160734\n",
            " -12.96101232 -10.49063202 -10.17008283 -10.93157062  -9.63383883\n",
            " -10.17274044 -12.12463904  -5.90856689  -6.95167927  -5.8117693\n",
            "  -7.11439321  -5.61899092  -6.7010447   -6.04175485  -9.9085704\n",
            "  -3.27975648  -6.21671517  -4.7331569   -4.05148678  -4.63775921\n",
            "  -4.38875592  -2.56139334  -2.20475996  -0.85000014   2.60515663\n",
            "  -2.85998801  -3.4307337   -2.70632137   1.32235429   4.85983675\n",
            "  -4.19302977   4.4132633    2.06748803   0.56970372   1.41929244\n",
            "   3.76440095   1.31077523   3.88607832   1.43481737  -0.41288775\n",
            "   0.94011107   5.54430895   5.16962369   3.57661911   4.90160316\n",
            "   8.98261321   6.59990009   6.24345474   5.94135587   9.95110355\n",
            "   5.81318197  12.94144761   8.50236547   4.58953099   6.85654823\n",
            "   7.39333821  11.46318129  12.30261222  13.83897006   7.9436121\n",
            "  10.39343015  10.86092687   9.24486031  10.6746278   13.27483728\n",
            "  13.39439895  15.26593899  12.53290992  14.22926703  13.84408633\n",
            "  16.94037304  11.59646935  17.15322441  10.33950353  16.71073232\n",
            "  11.82937339  17.89199741  21.05978681  13.39020717  18.87196763]\n"
          ]
        }
      ]
    },
    {
      "cell_type": "code",
      "source": [
        "soma_erro_xy = np.sum(erro_X*erro_Y)\n",
        "erro_X_quadratico = (X - media_X)**2\n",
        "soma_erro_X_quadratico = np.sum(erro_X_quadratico)\n",
        "m = soma_erro_xy / soma_erro_X_quadratico\n",
        "print(\"Coeficiente angular = {:0.2f}\".format(m))"
      ],
      "metadata": {
        "colab": {
          "base_uri": "https://localhost:8080/"
        },
        "id": "mV_7JrAReo3E",
        "outputId": "8f4b09cb-f173-47d4-b182-007cf0967ff0"
      },
      "execution_count": null,
      "outputs": [
        {
          "output_type": "stream",
          "name": "stdout",
          "text": [
            "Coeficiente angular = 3.51\n"
          ]
        }
      ]
    },
    {
      "cell_type": "code",
      "source": [
        "c = media_Y - m * media_X\n",
        "print(\"Coeficiente linear = {:0.2f}\".format(c))"
      ],
      "metadata": {
        "colab": {
          "base_uri": "https://localhost:8080/"
        },
        "id": "wcExGMr0gooc",
        "outputId": "66de5592-5aa0-4d24-8eca-2dcb0c8ee21e"
      },
      "execution_count": null,
      "outputs": [
        {
          "output_type": "stream",
          "name": "stdout",
          "text": [
            "Coeficiente linear = -11.11\n"
          ]
        }
      ]
    },
    {
      "cell_type": "code",
      "source": [
        "reta = m*X + c"
      ],
      "metadata": {
        "id": "HJF5jTSdiG4Z"
      },
      "execution_count": null,
      "outputs": []
    },
    {
      "cell_type": "code",
      "source": [
        "plt.scatter(X,Y,label='Y(X)');\n",
        "plt.plot(X,reta,label='Ajuste linear',color='red');\n",
        "plt.xlabel('X');\n",
        "plt.ylabel('Y');\n",
        "plt.legend();"
      ],
      "metadata": {
        "colab": {
          "base_uri": "https://localhost:8080/",
          "height": 279
        },
        "id": "jaEZDfBQiQT5",
        "outputId": "c8e8c6ff-e99c-42d0-bbf1-a347a62ba717"
      },
      "execution_count": null,
      "outputs": [
        {
          "output_type": "display_data",
          "data": {
            "image/png": "[encoded data removed]",
            "text/plain": [
              "<Figure size 432x288 with 1 Axes>"
            ]
          },
          "metadata": {
            "needs_background": "light"
          }
        }
      ]
    },
    {
      "cell_type": "code",
      "source": [
        "from sklearn.metrics import mean_absolute_error,mean_squared_error\n",
        "\n",
        "MAE = mean_absolute_error(Y,reta)\n",
        "RMSE = np.sqrt(mean_squared_error(Y,reta))\n",
        "\n",
        "print(\"MAE = {:0.2f}\".format(MAE))\n",
        "print(\"RMSE = {:0.2f}\".format(RMSE))"
      ],
      "metadata": {
        "colab": {
          "base_uri": "https://localhost:8080/"
        },
        "id": "MBJpP5bHqMYm",
        "outputId": "8637a732-e7ef-4697-860f-b8afb750ea6d"
      },
      "execution_count": null,
      "outputs": [
        {
          "output_type": "stream",
          "name": "stdout",
          "text": [
            "MAE = 1.89\n",
            "RMSE = 2.43\n"
          ]
        }
      ]
    }
  ]
}